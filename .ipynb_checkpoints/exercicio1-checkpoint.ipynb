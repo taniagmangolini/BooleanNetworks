{
 "cells": [
  {
   "cell_type": "code",
   "execution_count": 1,
   "metadata": {},
   "outputs": [],
   "source": [
    "import re\n",
    "from itertools import permutations\n",
    "import numpy as np\n",
    "import matplotlib.pyplot as plt\n",
    "from networkx import nx"
   ]
  },
  {
   "cell_type": "code",
   "execution_count": 2,
   "metadata": {},
   "outputs": [],
   "source": [
    "interaction_matrix = [[0,1,0,0,1],\n",
    "                      [0,0,0,0,1],\n",
    "                      [-1,0,0,1,0],\n",
    "                      [-1,0,1,0,0],\n",
    "                      [0,0,0,1,0]]"
   ]
  },
  {
   "cell_type": "code",
   "execution_count": 3,
   "metadata": {},
   "outputs": [],
   "source": [
    "#obter todas os estados possiveis para o primeiro estado (s1), sem considerar restricoes\n",
    "possibles_first_state = []"
   ]
  },
  {
   "cell_type": "code",
   "execution_count": 4,
   "metadata": {},
   "outputs": [],
   "source": [
    "#permut elements in the list\n",
    "def perm(list_to_permut):\n",
    "    permuts = set(list(permutations(list_to_permut,len(list_to_permut))))\n",
    "    for permut in permuts:\n",
    "        possibles_first_state.append(permut)"
   ]
  },
  {
   "cell_type": "code",
   "execution_count": 5,
   "metadata": {},
   "outputs": [],
   "source": [
    "all_zero = [0,0,0,0,0]\n",
    "all_one = [1,1,1,1,1]\n",
    "one_zero_four_one = [0,1,1,1,1]\n",
    "one_one_four_zero = [1,0,0,0,0]\n",
    "two_zero_three_one = [0,0,1,1,1]\n",
    "two_one_three_zero = [1,1,0,0,0]\n",
    "three_one_two_zero = [1,1,1,0,0]\n",
    "three_zero_two_one = [0,0,0,1,1]\n",
    "four_one_one_zero = [1,1,1,1,0]\n",
    "four_zero_one_one = [0,0,0,0,1]"
   ]
  },
  {
   "cell_type": "code",
   "execution_count": 6,
   "metadata": {},
   "outputs": [],
   "source": [
    "perm(all_zero)\n",
    "perm(all_one)\n",
    "perm(one_zero_four_one)\n",
    "perm(one_one_four_zero)\n",
    "perm(two_zero_three_one)\n",
    "perm(two_one_three_zero)\n",
    "perm(three_one_two_zero)\n",
    "perm(three_zero_two_one)\n",
    "perm(four_one_one_zero)\n",
    "perm(four_zero_one_one)"
   ]
  },
  {
   "cell_type": "code",
   "execution_count": 7,
   "metadata": {},
   "outputs": [
    {
     "data": {
      "text/plain": [
       "[(0, 0, 0, 0, 0),\n",
       " (1, 1, 1, 1, 1),\n",
       " (1, 1, 1, 1, 0),\n",
       " (1, 1, 0, 1, 1),\n",
       " (1, 1, 1, 0, 1),\n",
       " (0, 1, 1, 1, 1),\n",
       " (1, 0, 1, 1, 1),\n",
       " (0, 0, 0, 1, 0),\n",
       " (0, 1, 0, 0, 0),\n",
       " (1, 0, 0, 0, 0),\n",
       " (0, 0, 0, 0, 1),\n",
       " (0, 0, 1, 0, 0),\n",
       " (1, 1, 0, 1, 0),\n",
       " (1, 1, 1, 0, 0),\n",
       " (0, 1, 0, 1, 1),\n",
       " (0, 1, 1, 0, 1),\n",
       " (1, 0, 0, 1, 1),\n",
       " (1, 0, 1, 0, 1),\n",
       " (0, 1, 1, 1, 0),\n",
       " (1, 0, 1, 1, 0),\n",
       " (0, 0, 1, 1, 1),\n",
       " (1, 1, 0, 0, 1),\n",
       " (0, 0, 1, 1, 0),\n",
       " (1, 1, 0, 0, 0),\n",
       " (0, 1, 0, 1, 0),\n",
       " (0, 0, 1, 0, 1),\n",
       " (0, 0, 0, 1, 1),\n",
       " (1, 0, 0, 1, 0),\n",
       " (0, 1, 1, 0, 0),\n",
       " (1, 0, 1, 0, 0),\n",
       " (0, 1, 0, 0, 1),\n",
       " (1, 0, 0, 0, 1),\n",
       " (1, 1, 1, 0, 0),\n",
       " (1, 1, 0, 1, 0),\n",
       " (0, 1, 1, 0, 1),\n",
       " (0, 1, 0, 1, 1),\n",
       " (1, 0, 1, 0, 1),\n",
       " (1, 0, 0, 1, 1),\n",
       " (0, 1, 1, 1, 0),\n",
       " (1, 0, 1, 1, 0),\n",
       " (0, 0, 1, 1, 1),\n",
       " (1, 1, 0, 0, 1),\n",
       " (0, 0, 1, 1, 0),\n",
       " (1, 0, 1, 0, 0),\n",
       " (1, 1, 0, 0, 0),\n",
       " (0, 0, 1, 0, 1),\n",
       " (0, 0, 0, 1, 1),\n",
       " (0, 1, 1, 0, 0),\n",
       " (0, 1, 0, 1, 0),\n",
       " (1, 0, 0, 1, 0),\n",
       " (0, 1, 0, 0, 1),\n",
       " (1, 0, 0, 0, 1),\n",
       " (1, 1, 1, 1, 0),\n",
       " (1, 1, 1, 0, 1),\n",
       " (1, 1, 0, 1, 1),\n",
       " (0, 1, 1, 1, 1),\n",
       " (1, 0, 1, 1, 1),\n",
       " (0, 0, 0, 1, 0),\n",
       " (0, 1, 0, 0, 0),\n",
       " (1, 0, 0, 0, 0),\n",
       " (0, 0, 0, 0, 1),\n",
       " (0, 0, 1, 0, 0)]"
      ]
     },
     "execution_count": 7,
     "metadata": {},
     "output_type": "execute_result"
    }
   ],
   "source": [
    "possibles_first_state"
   ]
  },
  {
   "cell_type": "code",
   "execution_count": 8,
   "metadata": {},
   "outputs": [
    {
     "data": {
      "text/plain": [
       "62"
      ]
     },
     "execution_count": 8,
     "metadata": {},
     "output_type": "execute_result"
    }
   ],
   "source": [
    "#Há 32 possibilidades para o primeiro estado\n",
    "len(possibles_first_state)"
   ]
  },
  {
   "cell_type": "code",
   "execution_count": 9,
   "metadata": {},
   "outputs": [
    {
     "data": {
      "text/plain": [
       "32"
      ]
     },
     "execution_count": 9,
     "metadata": {},
     "output_type": "execute_result"
    }
   ],
   "source": [
    "#remove duplicates\n",
    "possibles_first_state = list(dict.fromkeys(possibles_first_state))\n",
    "len(possibles_first_state)"
   ]
  },
  {
   "cell_type": "code",
   "execution_count": 10,
   "metadata": {},
   "outputs": [],
   "source": [
    "#calc the next input for each state\n",
    "#dicionario para armazenar o proximo estado de determinado estado\n",
    "next_input_for_each_state= {}"
   ]
  },
  {
   "cell_type": "code",
   "execution_count": 11,
   "metadata": {},
   "outputs": [],
   "source": [
    "for state in possibles_first_state:\n",
    "    state_to_transpose = [state]\n",
    "    state_transposed = np.array(state_to_transpose).T\n",
    "    next_input = np.matmul(interaction_matrix, state_transposed)\n",
    "    next_input_for_each_state[state] = next_input"
   ]
  },
  {
   "cell_type": "code",
   "execution_count": 12,
   "metadata": {},
   "outputs": [
    {
     "name": "stdout",
     "output_type": "stream",
     "text": [
      "(0, 0, 0, 0, 0) : [[0]\n",
      " [0]\n",
      " [0]\n",
      " [0]\n",
      " [0]]\n",
      "(1, 1, 1, 1, 1) : [[2]\n",
      " [1]\n",
      " [0]\n",
      " [0]\n",
      " [1]]\n",
      "(1, 1, 1, 1, 0) : [[1]\n",
      " [0]\n",
      " [0]\n",
      " [0]\n",
      " [1]]\n",
      "(1, 1, 0, 1, 1) : [[ 2]\n",
      " [ 1]\n",
      " [ 0]\n",
      " [-1]\n",
      " [ 1]]\n",
      "(1, 1, 1, 0, 1) : [[ 2]\n",
      " [ 1]\n",
      " [-1]\n",
      " [ 0]\n",
      " [ 0]]\n",
      "(0, 1, 1, 1, 1) : [[2]\n",
      " [1]\n",
      " [1]\n",
      " [1]\n",
      " [1]]\n",
      "(1, 0, 1, 1, 1) : [[1]\n",
      " [1]\n",
      " [0]\n",
      " [0]\n",
      " [1]]\n",
      "(0, 0, 0, 1, 0) : [[0]\n",
      " [0]\n",
      " [1]\n",
      " [0]\n",
      " [1]]\n",
      "(0, 1, 0, 0, 0) : [[1]\n",
      " [0]\n",
      " [0]\n",
      " [0]\n",
      " [0]]\n",
      "(1, 0, 0, 0, 0) : [[ 0]\n",
      " [ 0]\n",
      " [-1]\n",
      " [-1]\n",
      " [ 0]]\n",
      "(0, 0, 0, 0, 1) : [[1]\n",
      " [1]\n",
      " [0]\n",
      " [0]\n",
      " [0]]\n",
      "(0, 0, 1, 0, 0) : [[0]\n",
      " [0]\n",
      " [0]\n",
      " [1]\n",
      " [0]]\n",
      "(1, 1, 0, 1, 0) : [[ 1]\n",
      " [ 0]\n",
      " [ 0]\n",
      " [-1]\n",
      " [ 1]]\n",
      "(1, 1, 1, 0, 0) : [[ 1]\n",
      " [ 0]\n",
      " [-1]\n",
      " [ 0]\n",
      " [ 0]]\n",
      "(0, 1, 0, 1, 1) : [[2]\n",
      " [1]\n",
      " [1]\n",
      " [0]\n",
      " [1]]\n",
      "(0, 1, 1, 0, 1) : [[2]\n",
      " [1]\n",
      " [0]\n",
      " [1]\n",
      " [0]]\n",
      "(1, 0, 0, 1, 1) : [[ 1]\n",
      " [ 1]\n",
      " [ 0]\n",
      " [-1]\n",
      " [ 1]]\n",
      "(1, 0, 1, 0, 1) : [[ 1]\n",
      " [ 1]\n",
      " [-1]\n",
      " [ 0]\n",
      " [ 0]]\n",
      "(0, 1, 1, 1, 0) : [[1]\n",
      " [0]\n",
      " [1]\n",
      " [1]\n",
      " [1]]\n",
      "(1, 0, 1, 1, 0) : [[0]\n",
      " [0]\n",
      " [0]\n",
      " [0]\n",
      " [1]]\n",
      "(0, 0, 1, 1, 1) : [[1]\n",
      " [1]\n",
      " [1]\n",
      " [1]\n",
      " [1]]\n",
      "(1, 1, 0, 0, 1) : [[ 2]\n",
      " [ 1]\n",
      " [-1]\n",
      " [-1]\n",
      " [ 0]]\n",
      "(0, 0, 1, 1, 0) : [[0]\n",
      " [0]\n",
      " [1]\n",
      " [1]\n",
      " [1]]\n",
      "(1, 1, 0, 0, 0) : [[ 1]\n",
      " [ 0]\n",
      " [-1]\n",
      " [-1]\n",
      " [ 0]]\n",
      "(0, 1, 0, 1, 0) : [[1]\n",
      " [0]\n",
      " [1]\n",
      " [0]\n",
      " [1]]\n",
      "(0, 0, 1, 0, 1) : [[1]\n",
      " [1]\n",
      " [0]\n",
      " [1]\n",
      " [0]]\n",
      "(0, 0, 0, 1, 1) : [[1]\n",
      " [1]\n",
      " [1]\n",
      " [0]\n",
      " [1]]\n",
      "(1, 0, 0, 1, 0) : [[ 0]\n",
      " [ 0]\n",
      " [ 0]\n",
      " [-1]\n",
      " [ 1]]\n",
      "(0, 1, 1, 0, 0) : [[1]\n",
      " [0]\n",
      " [0]\n",
      " [1]\n",
      " [0]]\n",
      "(1, 0, 1, 0, 0) : [[ 0]\n",
      " [ 0]\n",
      " [-1]\n",
      " [ 0]\n",
      " [ 0]]\n",
      "(0, 1, 0, 0, 1) : [[2]\n",
      " [1]\n",
      " [0]\n",
      " [0]\n",
      " [0]]\n",
      "(1, 0, 0, 0, 1) : [[ 1]\n",
      " [ 1]\n",
      " [-1]\n",
      " [-1]\n",
      " [ 0]]\n"
     ]
    }
   ],
   "source": [
    "for state, next_input in next_input_for_each_state.items():\n",
    "    print (state , ':', next_input)"
   ]
  },
  {
   "cell_type": "code",
   "execution_count": 13,
   "metadata": {},
   "outputs": [],
   "source": [
    "#calc the next state according to the following rules:\n",
    "#input > 0: 1\n",
    "#inpuy < 0: 0\n",
    "#input == 0: keep the state\n",
    "\n",
    "next_state_for_each_state = {}\n",
    "\n",
    "for state, next_input in next_input_for_each_state.items():\n",
    "    next_state= []\n",
    "    for node in range (0,5):\n",
    "        if next_input[node] > 0:\n",
    "            next_state.append(1)\n",
    "        elif next_input[node] == 0:\n",
    "            next_state.append(state[node])\n",
    "        else:\n",
    "            next_state.append(0)\n",
    "    next_state_for_each_state[state] = next_state"
   ]
  },
  {
   "cell_type": "code",
   "execution_count": 14,
   "metadata": {},
   "outputs": [
    {
     "name": "stdout",
     "output_type": "stream",
     "text": [
      "(0, 0, 0, 0, 0) : [0, 0, 0, 0, 0]\n",
      "(1, 1, 1, 1, 1) : [1, 1, 1, 1, 1]\n",
      "(1, 1, 1, 1, 0) : [1, 1, 1, 1, 1]\n",
      "(1, 1, 0, 1, 1) : [1, 1, 0, 0, 1]\n",
      "(1, 1, 1, 0, 1) : [1, 1, 0, 0, 1]\n",
      "(0, 1, 1, 1, 1) : [1, 1, 1, 1, 1]\n",
      "(1, 0, 1, 1, 1) : [1, 1, 1, 1, 1]\n",
      "(0, 0, 0, 1, 0) : [0, 0, 1, 1, 1]\n",
      "(0, 1, 0, 0, 0) : [1, 1, 0, 0, 0]\n",
      "(1, 0, 0, 0, 0) : [1, 0, 0, 0, 0]\n",
      "(0, 0, 0, 0, 1) : [1, 1, 0, 0, 1]\n",
      "(0, 0, 1, 0, 0) : [0, 0, 1, 1, 0]\n",
      "(1, 1, 0, 1, 0) : [1, 1, 0, 0, 1]\n",
      "(1, 1, 1, 0, 0) : [1, 1, 0, 0, 0]\n",
      "(0, 1, 0, 1, 1) : [1, 1, 1, 1, 1]\n",
      "(0, 1, 1, 0, 1) : [1, 1, 1, 1, 1]\n",
      "(1, 0, 0, 1, 1) : [1, 1, 0, 0, 1]\n",
      "(1, 0, 1, 0, 1) : [1, 1, 0, 0, 1]\n",
      "(0, 1, 1, 1, 0) : [1, 1, 1, 1, 1]\n",
      "(1, 0, 1, 1, 0) : [1, 0, 1, 1, 1]\n",
      "(0, 0, 1, 1, 1) : [1, 1, 1, 1, 1]\n",
      "(1, 1, 0, 0, 1) : [1, 1, 0, 0, 1]\n",
      "(0, 0, 1, 1, 0) : [0, 0, 1, 1, 1]\n",
      "(1, 1, 0, 0, 0) : [1, 1, 0, 0, 0]\n",
      "(0, 1, 0, 1, 0) : [1, 1, 1, 1, 1]\n",
      "(0, 0, 1, 0, 1) : [1, 1, 1, 1, 1]\n",
      "(0, 0, 0, 1, 1) : [1, 1, 1, 1, 1]\n",
      "(1, 0, 0, 1, 0) : [1, 0, 0, 0, 1]\n",
      "(0, 1, 1, 0, 0) : [1, 1, 1, 1, 0]\n",
      "(1, 0, 1, 0, 0) : [1, 0, 0, 0, 0]\n",
      "(0, 1, 0, 0, 1) : [1, 1, 0, 0, 1]\n",
      "(1, 0, 0, 0, 1) : [1, 1, 0, 0, 1]\n"
     ]
    }
   ],
   "source": [
    "for state, next_state in next_state_for_each_state.items():\n",
    "    print (state , ':', next_state)"
   ]
  },
  {
   "cell_type": "code",
   "execution_count": null,
   "metadata": {},
   "outputs": [],
   "source": []
  },
  {
   "cell_type": "code",
   "execution_count": 15,
   "metadata": {},
   "outputs": [],
   "source": [
    "def stringify(something):\n",
    "    if type(something) == list:\n",
    "        return [stringify(x) for x in something]\n",
    "    elif type(something) == tuple:\n",
    "        return tuple(stringify(list(something)))\n",
    "    else:\n",
    "        return str(something)"
   ]
  },
  {
   "cell_type": "code",
   "execution_count": 16,
   "metadata": {},
   "outputs": [
    {
     "name": "stdout",
     "output_type": "stream",
     "text": [
      "00000 : 00000\n",
      "11111 : 11111\n",
      "11110 : 11111\n",
      "11011 : 11001\n",
      "11101 : 11001\n",
      "01111 : 11111\n",
      "10111 : 11111\n",
      "00010 : 00111\n",
      "01000 : 11000\n",
      "10000 : 10000\n",
      "00001 : 11001\n",
      "00100 : 00110\n",
      "11010 : 11001\n",
      "11100 : 11000\n",
      "01011 : 11111\n",
      "01101 : 11111\n",
      "10011 : 11001\n",
      "10101 : 11001\n",
      "01110 : 11111\n",
      "10110 : 10111\n",
      "00111 : 11111\n",
      "11001 : 11001\n",
      "00110 : 00111\n",
      "11000 : 11000\n",
      "01010 : 11111\n",
      "00101 : 11111\n",
      "00011 : 11111\n",
      "10010 : 10001\n",
      "01100 : 11110\n",
      "10100 : 10000\n",
      "01001 : 11001\n",
      "10001 : 11001\n"
     ]
    }
   ],
   "source": [
    "transitions = []\n",
    "for state, next_state in next_state_for_each_state.items():\n",
    "    transition = []\n",
    "    state_str = ''.join(stringify(state))\n",
    "    transition.append(state_str)\n",
    "    next_state_str = ''.join(stringify(next_state))\n",
    "    transition.append(next_state_str)\n",
    "    transitions.append(transition)\n",
    "    print (state_str , ':', next_state_str)"
   ]
  },
  {
   "cell_type": "code",
   "execution_count": 18,
   "metadata": {},
   "outputs": [
    {
     "data": {
      "image/png": "[encoded data removed]",
      "text/plain": [
       "<Figure size 720x720 with 1 Axes>"
      ]
     },
     "metadata": {},
     "output_type": "display_data"
    }
   ],
   "source": [
    "#transition state diagram\n",
    "#https://stackoverflow.com/questions/20133479/how-to-draw-directed-graphs-using-networkx-in-python\n",
    "G = nx.DiGraph()\n",
    "G.add_edges_from(transitions)\n",
    "\n",
    "pos = nx.spring_layout(G)\n",
    "plt.figure(3,figsize=(10,10)) \n",
    "nx.draw_networkx_nodes(G, pos)\n",
    "nx.draw_networkx_labels(G, pos,font_size=8)\n",
    "nx.draw_networkx_edges(G, pos, arrows=True)\n",
    "plt.show()"
   ]
  },
  {
   "cell_type": "code",
   "execution_count": null,
   "metadata": {},
   "outputs": [],
   "source": []
  },
  {
   "cell_type": "code",
   "execution_count": null,
   "metadata": {},
   "outputs": [],
   "source": []
  },
  {
   "cell_type": "code",
   "execution_count": null,
   "metadata": {},
   "outputs": [],
   "source": []
  },
  {
   "cell_type": "code",
   "execution_count": null,
   "metadata": {},
   "outputs": [],
   "source": []
  },
  {
   "cell_type": "code",
   "execution_count": null,
   "metadata": {},
   "outputs": [],
   "source": []
  }
 ],
 "metadata": {
  "kernelspec": {
   "display_name": "Python 3",
   "language": "python",
   "name": "python3"
  },
  "language_info": {
   "codemirror_mode": {
    "name": "ipython",
    "version": 3
   },
   "file_extension": ".py",
   "mimetype": "text/x-python",
   "name": "python",
   "nbconvert_exporter": "python",
   "pygments_lexer": "ipython3",
   "version": "3.6.5"
  }
 },
 "nbformat": 4,
 "nbformat_minor": 2
}
